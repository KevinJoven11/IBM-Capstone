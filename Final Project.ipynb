{
 "cells": [
  {
   "cell_type": "markdown",
   "metadata": {},
   "source": [
    "# ADVANCED DATA SCIENCE WITH IBM \n",
    "## COVID 19 - Predict\n",
    "The development of this document is to approve the Final report on **Advanced Data Science Capstone**, it explain all about the topic and the development on it.\n",
    "Currently COVID 19 (June 2020) is the biggest problem in the world, not only because of the impact but also the deaths, this project takes the data set offered by: [Dataset](https://www.kaggle.com/lalish99/covid19-mx/data?select=covid-19_general_MX.csv)\n",
    "\n",
    "Design a supervised machine learning that can predict whether or not a patient has COVID-19, with their age and previous illnesses, and the implementation of different algorithms to solve the problem.\n",
    "\n",
    "This problem was designed in local jupyter notebook with Python 3.6.\\\n",
    "Autor: Kevin Joven"
   ]
  },
  {
   "cell_type": "code",
   "execution_count": 1,
   "metadata": {},
   "outputs": [],
   "source": [
    "#Import all the libreries that we need.\n",
    "from pyspark import SparkContext, SparkConf\n",
    "sc = SparkContext.getOrCreate(SparkConf().setMaster(\"local[*]\"))\n",
    "from pyspark.sql import SparkSession\n",
    "from pyspark.sql.functions import *\n",
    "spark = SparkSession \\\n",
    "    .builder \\\n",
    "    .appName(\"COVID-19 Predict\") \\\n",
    "    .config(\"spark.some.config.option\", \"some-value\") \\\n",
    "    .getOrCreate()\n",
    "\n",
    "import numpy as np\n",
    "import matplotlib. pyplot as plt\n",
    "import seaborn as sns\n",
    "from sklearn.metrics import confusion_matrix\n",
    "#Download the dataset and place it in the folder on your laptop (DatosCVD.csv).\n",
    "df = spark.read.format(\"csv\").option(\"header\", \"true\").load(\"DatosCVD.csv\")"
   ]
  },
  {
   "cell_type": "markdown",
   "metadata": {},
   "source": [
    "## 1. Principal Features \n",
    "NUM (Number): Pacient number.\\\n",
    "SEXO (Sex) : 1- Women 2- Men - 98 -Others\\\n",
    "EDAD (Age) : Person age.\\\n",
    "Previus Issues: NEUMONIA - DIABETES - EPOC - ASMA - HIPERTENSION - CARDIOVASCULAR - OBESIDAD - TABAQUISMO - 1 - Si - 2 - No - Does Apply - 98 is ignored - 99 Not specified.\\\n",
    "RESULTADO (Result) : Has or not COVID - 1- Yes 2- No 3- Pendient"
   ]
  },
  {
   "cell_type": "code",
   "execution_count": 2,
   "metadata": {},
   "outputs": [
    {
     "name": "stdout",
     "output_type": "stream",
     "text": [
      "+---+----+----+--------+--------+----+----+------------+--------------+--------+----------+-----+---------+\n",
      "|NUM|SEXO|EDAD|NEUMONIA|DIABETES|EPOC|ASMA|HIPERTENSION|CARDIOVASCULAR|OBESIDAD|TABAQUISMO|RENAL|RESULTADO|\n",
      "+---+----+----+--------+--------+----+----+------------+--------------+--------+----------+-----+---------+\n",
      "|  0|   2|  27|       2|       2|   2|   2|           2|             2|       2|         2|    2|        1|\n",
      "|  1|   1|  52|       2|       1|   2|   2|           1|             1|       2|         2|    2|        1|\n",
      "|  2|   1|  55|       2|       1|   2|   2|           1|             2|       1|         2|    2|        1|\n",
      "|  3|   1|  38|       2|       2|   2|   2|           2|             2|       2|         2|    2|        1|\n",
      "|  4|   2|  59|       2|       2|   2|   2|           2|             2|       2|         2|    2|        1|\n",
      "|  5|   1|  67|       2|       1|   2|   1|           2|             2|       2|         2|    2|        1|\n",
      "|  6|   2|  36|       2|       2|   2|   2|           2|             2|       2|         2|    2|        1|\n",
      "|  7|   2|  27|       1|       2|   2|   1|           2|             2|       2|         2|    2|        1|\n",
      "|  8|   1|  39|       2|       2|   2|   2|           2|             2|       2|         2|    2|        1|\n",
      "|  9|   1|  30|       2|       2|   2|   2|           2|             2|       1|         2|    2|        1|\n",
      "+---+----+----+--------+--------+----+----+------------+--------------+--------+----------+-----+---------+\n",
      "only showing top 10 rows\n",
      "\n"
     ]
    }
   ],
   "source": [
    "Datos = df.select(df._c0.alias('NUM'),df.SEXO,df.EDAD,df.NEUMONIA,df.DIABETES,df.EPOC,df.ASMA,df.HIPERTENSION\n",
    "          ,df.CARDIOVASCULAR,df.OBESIDAD,df.TABAQUISMO,df.RENAL_CRONICA.alias('RENAL'),df.RESULTADO)\n",
    "Datos.show(10)"
   ]
  },
  {
   "cell_type": "markdown",
   "metadata": {},
   "source": [
    "## 2. Feature Enginering\n",
    "Here we convert the original dataset to a dataset that does not contain extreme values or unspecified values, (previous illnesses), we remove that data from the original dataset, along with adjusting the values from 0 to 1, and modifying the age within an equivalent range ( for our case less than 80 years), however there are other techniques such as IQR.\n",
    "The ages corresponding to 0 correspond to a newborn."
   ]
  },
  {
   "cell_type": "code",
   "execution_count": 3,
   "metadata": {},
   "outputs": [
    {
     "name": "stdout",
     "output_type": "stream",
     "text": [
      "+-------+------------------+\n",
      "|summary|              EDAD|\n",
      "+-------+------------------+\n",
      "|  count|            401755|\n",
      "|   mean| 42.57662505755996|\n",
      "| stddev|16.695685188876595|\n",
      "|    min|                 0|\n",
      "|    25%|              31.0|\n",
      "|    50%|              41.0|\n",
      "|    75%|              53.0|\n",
      "|    max|                99|\n",
      "+-------+------------------+\n",
      "\n"
     ]
    }
   ],
   "source": [
    "Datos.select('EDAD').summary().show()"
   ]
  },
  {
   "cell_type": "code",
   "execution_count": 4,
   "metadata": {},
   "outputs": [
    {
     "name": "stdout",
     "output_type": "stream",
     "text": [
      "+---+----+----+----+--------+--------+----+------------+--------------+--------+----------+-----+---------+\n",
      "|NUM|EDAD|SEXO|ASMA|NEUMONIA|DIABETES|EPOC|HIPERTENSION|CARDIOVASCULAR|OBESIDAD|TABAQUISMO|RENAL|RESULTADO|\n",
      "+---+----+----+----+--------+--------+----+------------+--------------+--------+----------+-----+---------+\n",
      "|  0|  27|   1|   0|       0|       0|   0|           0|             0|       0|         0|    0|        1|\n",
      "|  1|  52|   0|   0|       0|       1|   0|           1|             1|       0|         0|    0|        1|\n",
      "|  2|  55|   0|   0|       0|       1|   0|           1|             0|       1|         0|    0|        1|\n",
      "|  3|  38|   0|   0|       0|       0|   0|           0|             0|       0|         0|    0|        1|\n",
      "|  4|  59|   1|   0|       0|       0|   0|           0|             0|       0|         0|    0|        1|\n",
      "+---+----+----+----+--------+--------+----+------------+--------------+--------+----------+-----+---------+\n",
      "only showing top 5 rows\n",
      "\n"
     ]
    },
    {
     "data": {
      "text/plain": [
       "334943"
      ]
     },
     "execution_count": 4,
     "metadata": {},
     "output_type": "execute_result"
    }
   ],
   "source": [
    "Datos.createOrReplaceTempView('Datos')\n",
    "Datossql = spark.sql(\"\"\"\n",
    "\n",
    "SELECT CAST(NUM AS INT),\n",
    "CAST(EDAD AS INT),\n",
    "CAST(REPLACE(REPLACE(SEXO,1,0),2,1) AS INT) AS SEXO,\n",
    "CAST(REPLACE(REPLACE(ASMA,2,0),1,1) AS INT) AS ASMA,\n",
    "CAST(REPLACE(REPLACE(NEUMONIA,2,0),1,1) AS INT) AS NEUMONIA,\n",
    "CAST(REPLACE(REPLACE(DIABETES,2,0),1,1) AS INT) AS DIABETES,\n",
    "CAST(REPLACE(REPLACE(EPOC,2,0),1,1) AS INT) AS EPOC,\n",
    "CAST(REPLACE(REPLACE(HIPERTENSION,2,0),1,1) AS INT) AS HIPERTENSION,\n",
    "CAST(REPLACE(REPLACE(CARDIOVASCULAR,2,0),1,1) AS INT) AS CARDIOVASCULAR,\n",
    "CAST(REPLACE(REPLACE(OBESIDAD,2,0),1,1) AS INT) AS OBESIDAD,\n",
    "CAST(REPLACE(REPLACE(TABAQUISMO,2,0),1,1) AS INT) AS TABAQUISMO,\n",
    "CAST(REPLACE(REPLACE(RENAL,2,0),1,1) AS INT) AS RENAL,\n",
    "CAST(REPLACE(REPLACE(RESULTADO,2,0),1,1) AS INT) AS RESULTADO\n",
    "\n",
    "\n",
    "from Datos\n",
    "\n",
    "WHERE ASMA != 97 AND ASMA != 98 AND ASMA != 99 AND\n",
    "TABAQUISMO != 97 AND TABAQUISMO != 98 AND TABAQUISMO != 99 AND\n",
    "RESULTADO != 3 AND\n",
    "EDAD < 80 AND\n",
    "NEUMONIA != 97 AND NEUMONIA != 98 AND NEUMONIA != 99 AND\n",
    "DIABETES != 97 AND DIABETES != 98 AND DIABETES != 99 AND\n",
    "EPOC != 97 AND EPOC != 98 AND EPOC != 99 AND\n",
    "HIPERTENSION != 97 AND HIPERTENSION != 98 AND HIPERTENSION != 99 AND\n",
    "CARDIOVASCULAR != 97 AND CARDIOVASCULAR != 98 AND CARDIOVASCULAR != 99 AND\n",
    "RENAL != 97 AND RENAL != 98 AND RENAL != 99 AND\n",
    "OBESIDAD != 97 AND OBESIDAD != 98 AND OBESIDAD != 99\n",
    "\n",
    "\"\"\")\n",
    "Datossql.show(5)\n",
    "Datossql.count()"
   ]
  },
  {
   "cell_type": "markdown",
   "metadata": {},
   "source": [
    "### Some Statistics\n",
    "We calculated the histogram of people with COVID and without COVID, their boxplot and the correlation between each of the previous diseases depending on the age of the patients."
   ]
  },
  {
   "cell_type": "code",
   "execution_count": 5,
   "metadata": {},
   "outputs": [
    {
     "data": {
      "image/png": "[encoded data removed]",
      "text/plain": [
       "<Figure size 576x576 with 2 Axes>"
      ]
     },
     "metadata": {
      "needs_background": "light"
     },
     "output_type": "display_data"
    }
   ],
   "source": [
    "plt.rcParams[\"figure.figsize\"] = (8,8) #Modify the figure size.\n",
    "X = Datossql.filter('RESULTADO=1').select('EDAD').sample(False,0.15).rdd.map(lambda x: x.EDAD).sortBy(lambda x:x).collect()\n",
    "Y = Datossql.filter('RESULTADO=0').select('EDAD').sample(False,0.15).rdd.map(lambda x: x.EDAD).sortBy(lambda x:x).collect()\n",
    "fig = plt.figure()\n",
    "ax1 = fig.add_subplot(211)\n",
    "ax2 = fig.add_subplot(212)\n",
    "ax1.hist(X)\n",
    "ax2.hist(Y)\n",
    "fig.text(0.5, 0.07, 'Age of persons', ha='center', va='center')\n",
    "fig.text(0.05, 0.5, 'N° persons', ha='center', va='center', rotation='vertical')\n",
    "ax1.set_title('With COVID')\n",
    "ax2.set_title('Without COVID')\n",
    "plt.show()"
   ]
  },
  {
   "cell_type": "code",
   "execution_count": 6,
   "metadata": {},
   "outputs": [
    {
     "data": {
      "image/png": "[encoded data removed]",
      "text/plain": [
       "<Figure size 576x576 with 1 Axes>"
      ]
     },
     "metadata": {
      "needs_background": "light"
     },
     "output_type": "display_data"
    }
   ],
   "source": [
    "plt.boxplot(X, positions = [0.5])\n",
    "plt.boxplot(Y, positions = [1])\n",
    "ticks=[0.5,1]\n",
    "labels=['COVID', 'NO-COVID']\n",
    "plt.xticks(ticks, labels)\n",
    "plt.show()"
   ]
  },
  {
   "cell_type": "markdown",
   "metadata": {},
   "source": [
    "### Correlations"
   ]
  },
  {
   "cell_type": "code",
   "execution_count": 7,
   "metadata": {},
   "outputs": [
    {
     "name": "stdout",
     "output_type": "stream",
     "text": [
      "[0.17960791369644316, 0.07914576754244484, -0.02835243446442051, -0.021751394515616956, 0.00932128618786566, 0.08771693933290145, 0.002750673802632613, 0.07865455095253637, 0.011100631711930122]\n"
     ]
    }
   ],
   "source": [
    "#Now we calculated the correlation between the RESULTADO and the others features.\n",
    "R1 = Datossql.corr('EDAD','RESULTADO')\n",
    "R2 = Datossql.corr('SEXO','RESULTADO')\n",
    "R3 = Datossql.corr('ASMA','RESULTADO')\n",
    "R4 = Datossql.corr('TABAQUISMO','RESULTADO')\n",
    "R5 = Datossql.corr('EPOC','RESULTADO')\n",
    "R6 = Datossql.corr('HIPERTENSION','RESULTADO')\n",
    "R7 = Datossql.corr('CARDIOVASCULAR','RESULTADO')\n",
    "R8 = Datossql.corr('OBESIDAD','RESULTADO')\n",
    "R9 = Datossql.corr('RENAL','RESULTADO')\n",
    "COR = [R1,R2,R3,R4,R5,R6,R7,R8,R9]\n",
    "print(COR)"
   ]
  },
  {
   "cell_type": "markdown",
   "metadata": {},
   "source": [
    "## 3. SYSTEM MODELING\n",
    "Now we choose a classifier to accurately predict the type of patients that arrive, we will use various classification systems, in this case binary since it will only be predicting whether or not you have COVID."
   ]
  },
  {
   "cell_type": "code",
   "execution_count": 8,
   "metadata": {},
   "outputs": [],
   "source": [
    "from pyspark.ml.feature import VectorAssembler,SQLTransformer\n",
    "from pyspark.ml.classification import LinearSVC, GBTClassifier, LogisticRegression, DecisionTreeClassifier\n",
    "from pyspark.ml.classification import NaiveBayes, MultilayerPerceptronClassifier, OneVsRest, RandomForestClassifier\n",
    "from pyspark.ml import Pipeline\n",
    "from pyspark.ml.evaluation import MulticlassClassificationEvaluator, BinaryClassificationEvaluator"
   ]
  },
  {
   "cell_type": "code",
   "execution_count": 9,
   "metadata": {},
   "outputs": [],
   "source": [
    "D = Datossql.sample(False,0.001) #We can use a bigger or smaller cuantity - 0.001\n",
    "D = D.select(D.RESULTADO.alias(\"label\"),D.EDAD,D.SEXO,D.ASMA,D.TABAQUISMO,D.EPOC,D.HIPERTENSION,\n",
    "             D.CARDIOVASCULAR,D.OBESIDAD,D.RENAL)\n",
    "vectorAssembler = VectorAssembler(inputCols=['EDAD','SEXO','ASMA','TABAQUISMO','EPOC','HIPERTENSION',\n",
    "                                             'CARDIOVASCULAR','OBESIDAD','RENAL'],outputCol = 'features')"
   ]
  },
  {
   "cell_type": "markdown",
   "metadata": {},
   "source": [
    "### LinearSVC Classifier"
   ]
  },
  {
   "cell_type": "code",
   "execution_count": 11,
   "metadata": {},
   "outputs": [
    {
     "data": {
      "text/plain": [
       "0.5055485242577604"
      ]
     },
     "execution_count": 11,
     "metadata": {},
     "output_type": "execute_result"
    }
   ],
   "source": [
    "classifier = LinearSVC(maxIter=5,regParam=0.01)\n",
    "pipeline = Pipeline(stages=[vectorAssembler, classifier])\n",
    "model = pipeline.fit(D)\n",
    "prediction = model.transform(D)\n",
    "binEval = BinaryClassificationEvaluator().setMetricName(\"areaUnderPR\").setRawPredictionCol(\"rawPrediction\").setLabelCol(\"label\")\n",
    "binEval.evaluate(prediction)"
   ]
  },
  {
   "cell_type": "markdown",
   "metadata": {},
   "source": [
    "### GBT Classifier"
   ]
  },
  {
   "cell_type": "code",
   "execution_count": 10,
   "metadata": {},
   "outputs": [
    {
     "data": {
      "text/plain": [
       "0.9034771939102528"
      ]
     },
     "execution_count": 10,
     "metadata": {},
     "output_type": "execute_result"
    }
   ],
   "source": [
    "classifier2 = GBTClassifier(maxDepth=30,maxIter=20)\n",
    "pipeline2 = Pipeline(stages=[vectorAssembler, classifier2])\n",
    "model2 = pipeline2.fit(D)\n",
    "prediction2 = model2.transform(D)\n",
    "binEval = BinaryClassificationEvaluator().setMetricName(\"areaUnderPR\").setRawPredictionCol(\"rawPrediction\").setLabelCol(\"label\")\n",
    "binEval.evaluate(prediction2)"
   ]
  },
  {
   "cell_type": "markdown",
   "metadata": {},
   "source": [
    "### Logistic Rregresion"
   ]
  },
  {
   "cell_type": "code",
   "execution_count": 260,
   "metadata": {},
   "outputs": [
    {
     "data": {
      "text/plain": [
       "0.441315056133217"
      ]
     },
     "execution_count": 260,
     "metadata": {},
     "output_type": "execute_result"
    }
   ],
   "source": [
    "classifier3 = LogisticRegression()\n",
    "pipeline3 = Pipeline(stages=[vectorAssembler, classifier3])\n",
    "model3 = pipeline3.fit(D)\n",
    "prediction3 = model3.transform(D)\n",
    "binEval = BinaryClassificationEvaluator().setMetricName(\"areaUnderPR\").setRawPredictionCol(\"rawPrediction\").setLabelCol(\"label\")\n",
    "binEval.evaluate(prediction3)"
   ]
  },
  {
   "cell_type": "markdown",
   "metadata": {},
   "source": [
    "### Decision Tree Classifier"
   ]
  },
  {
   "cell_type": "code",
   "execution_count": 261,
   "metadata": {},
   "outputs": [
    {
     "data": {
      "text/plain": [
       "0.435318397554313"
      ]
     },
     "execution_count": 261,
     "metadata": {},
     "output_type": "execute_result"
    }
   ],
   "source": [
    "classifier4 = DecisionTreeClassifier(maxDepth=25)\n",
    "pipeline4 = Pipeline(stages=[vectorAssembler, classifier4])\n",
    "model4 = pipeline4.fit(D)\n",
    "prediction4 = model4.transform(D)\n",
    "binEval = BinaryClassificationEvaluator().setMetricName(\"areaUnderPR\").setRawPredictionCol(\"rawPrediction\").setLabelCol(\"label\")\n",
    "binEval.evaluate(prediction4)"
   ]
  },
  {
   "cell_type": "markdown",
   "metadata": {},
   "source": [
    "### Random Forest Classifier"
   ]
  },
  {
   "cell_type": "code",
   "execution_count": 12,
   "metadata": {},
   "outputs": [
    {
     "data": {
      "text/plain": [
       "0.7284285642925457"
      ]
     },
     "execution_count": 12,
     "metadata": {},
     "output_type": "execute_result"
    }
   ],
   "source": [
    "classifier5 = RandomForestClassifier(numTrees=30)\n",
    "pipeline5 = Pipeline(stages=[vectorAssembler, classifier5])\n",
    "model5 = pipeline5.fit(D)\n",
    "prediction5 = model5.transform(D)\n",
    "binEval = BinaryClassificationEvaluator().setMetricName(\"areaUnderPR\").setRawPredictionCol(\"rawPrediction\").setLabelCol(\"label\")\n",
    "binEval.evaluate(prediction5)"
   ]
  },
  {
   "cell_type": "markdown",
   "metadata": {},
   "source": [
    "### Naive Bayes"
   ]
  },
  {
   "cell_type": "code",
   "execution_count": 263,
   "metadata": {},
   "outputs": [
    {
     "data": {
      "text/plain": [
       "0.3445630481871859"
      ]
     },
     "execution_count": 263,
     "metadata": {},
     "output_type": "execute_result"
    }
   ],
   "source": [
    "classifier6 = NaiveBayes()\n",
    "pipeline6 = Pipeline(stages=[vectorAssembler, classifier6])\n",
    "model6 = pipeline6.fit(D)\n",
    "prediction6 = model6.transform(D)\n",
    "binEval = BinaryClassificationEvaluator().setMetricName(\"areaUnderPR\").setRawPredictionCol(\"rawPrediction\").setLabelCol(\"label\")\n",
    "binEval.evaluate(prediction6)"
   ]
  },
  {
   "cell_type": "markdown",
   "metadata": {},
   "source": [
    "### Multilayer Perceptron Classifier"
   ]
  },
  {
   "cell_type": "code",
   "execution_count": 270,
   "metadata": {},
   "outputs": [
    {
     "data": {
      "text/plain": [
       "0.452591135160586"
      ]
     },
     "execution_count": 270,
     "metadata": {},
     "output_type": "execute_result"
    }
   ],
   "source": [
    "classifier7 = MultilayerPerceptronClassifier(maxIter=100, layers=[9,200,200, 2], blockSize=1000, seed=None)\n",
    "pipeline7 = Pipeline(stages=[vectorAssembler, classifier7])\n",
    "model7 = pipeline7.fit(D)\n",
    "prediction7 = model7.transform(D)\n",
    "binEval = BinaryClassificationEvaluator().setMetricName(\"areaUnderPR\").setRawPredictionCol(\"rawPrediction\").setLabelCol(\"label\")\n",
    "binEval.evaluate(prediction7)"
   ]
  },
  {
   "cell_type": "markdown",
   "metadata": {},
   "source": [
    "**As a summary GBTClassifier has a much higher precision compared to other classifiers, so it will be the model that we will use for the execution of the project.**"
   ]
  },
  {
   "cell_type": "code",
   "execution_count": null,
   "metadata": {},
   "outputs": [],
   "source": []
  }
 ],
 "metadata": {
  "kernelspec": {
   "display_name": "Python 3",
   "language": "python",
   "name": "python3"
  },
  "language_info": {
   "codemirror_mode": {
    "name": "ipython",
    "version": 3
   },
   "file_extension": ".py",
   "mimetype": "text/x-python",
   "name": "python",
   "nbconvert_exporter": "python",
   "pygments_lexer": "ipython3",
   "version": "3.6.7"
  }
 },
 "nbformat": 4,
 "nbformat_minor": 4
}
